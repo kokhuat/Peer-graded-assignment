{
  "metadata": {
    "kernelspec": {
      "name": "python",
      "display_name": "Pyolite",
      "language": "python"
    },
    "language_info": {
      "codemirror_mode": {
        "name": "python",
        "version": 3
      },
      "file_extension": ".py",
      "mimetype": "text/x-python",
      "name": "python",
      "nbconvert_exporter": "python",
      "pygments_lexer": "ipython3",
      "version": "3.8"
    }
  },
  "nbformat_minor": 4,
  "nbformat": 4,
  "cells": [
    {
      "cell_type": "markdown",
      "source": "<center>\n    <img src=\"https://s3-api.us-geo.objectstorage.softlayer.net/cf-courses-data/CognitiveClass/Logos/organization_logo/organization_logo.png\" width=\"300\" alt=\"cognitiveclass.ai logo\"  />\n</center>\n",
      "metadata": {}
    },
    {
      "cell_type": "markdown",
      "source": "# My Jupyter Notebook on IBM Watson Studio",
      "metadata": {}
    },
    {
      "cell_type": "markdown",
      "source": "**Kuon Kok Huat**\n\nData Scientist",
      "metadata": {}
    },
    {
      "cell_type": "markdown",
      "source": "*I am interested in data science because I believe data can help people to improve their current lifestyle.*",
      "metadata": {}
    },
    {
      "cell_type": "markdown",
      "source": "### In the next cell I will enter simple mathemathics code of \"2 * 3\" and the output should be 6.",
      "metadata": {}
    },
    {
      "cell_type": "code",
      "source": "2 * 3",
      "metadata": {
        "trusted": true
      },
      "execution_count": 1,
      "outputs": [
        {
          "execution_count": 1,
          "output_type": "execute_result",
          "data": {
            "text/plain": "6"
          },
          "metadata": {}
        }
      ]
    },
    {
      "cell_type": "markdown",
      "source": "* ```Jupyter Notebook```\n\n---\n\n* ```Data Scientist```\n\n***\n\n* ```Watson Studio```\n\n___\n\n* ```IBM Cloud```",
      "metadata": {
        "jp-MarkdownHeadingCollapsed": true,
        "tags": []
      }
    },
    {
      "cell_type": "code",
      "source": "",
      "metadata": {},
      "execution_count": null,
      "outputs": []
    }
  ]
}